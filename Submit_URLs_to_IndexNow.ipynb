{
  "nbformat": 4,
  "nbformat_minor": 0,
  "metadata": {
    "colab": {
      "provenance": [],
      "include_colab_link": true
    },
    "kernelspec": {
      "name": "python3",
      "display_name": "Python 3"
    },
    "language_info": {
      "name": "python"
    }
  },
  "cells": [
    {
      "cell_type": "markdown",
      "metadata": {
        "id": "view-in-github",
        "colab_type": "text"
      },
      "source": [
        "<a href=\"https://colab.research.google.com/github/carolinescgit/indexnow/blob/main/Submit_URLs_to_IndexNow.ipynb\" target=\"_parent\"><img src=\"https://colab.research.google.com/assets/colab-badge.svg\" alt=\"Open In Colab\"/></a>"
      ]
    },
    {
      "cell_type": "markdown",
      "source": [
        "## Submitting URLs to Bing IndexNow 🤖 / 🕷\n",
        "\n",
        "1. Generate your API key on https://www.bing.com/indexnow/getstarted\n",
        "2. Verify ownership of your domain, by uploading it to your root directory. The file should contain only your key. ✅\n",
        "3. Submit **URLs** based on the Steps 👟 detailed below."
      ],
      "metadata": {
        "id": "NOCGRBGzHjRq"
      }
    },
    {
      "cell_type": "markdown",
      "source": [
        "## Single URL submission to IndexNow() in the browser\n",
        "\n",
        "> You can submit a single URL to Bing IndexNow, by adding the following link into the browser. You will need to replace the placeholder values with your domain and URL values.\n",
        "\n",
        "⌨ Paste this URL in your browser. Replace the string with your actual URL and the API key with our own API key.\n",
        "\n",
        "* If you have the redirect checker browser extension installed, you will be able to see if the API responds with a 200 HTTP Status. ✅"
      ],
      "metadata": {
        "id": "XVU83p7EH8T1"
      }
    },
    {
      "cell_type": "code",
      "source": [
        "#https://www.bing.com/indexnow?url=https://example.com&key=YOUR_API_KEY\n",
        "\n",
        "#Example: Fill out blanks and submit in browser."
      ],
      "metadata": {
        "id": "pVX-Rpv0IGk6",
        "colab": {
          "base_uri": "https://localhost:8080/",
          "height": 106
        },
        "collapsed": true,
        "outputId": "ccdf290f-a0ca-497c-d429-161eaa3ed9bf"
      },
      "execution_count": null,
      "outputs": [
        {
          "output_type": "error",
          "ename": "SyntaxError",
          "evalue": "invalid syntax (<ipython-input-1-09fc598217f9>, line 1)",
          "traceback": [
            "\u001b[0;36m  File \u001b[0;32m\"<ipython-input-1-09fc598217f9>\"\u001b[0;36m, line \u001b[0;32m1\u001b[0m\n\u001b[0;31m    https://www.bing.com/indexnow?url=https://example.com&key=YOUR_API_KEY\u001b[0m\n\u001b[0m          ^\u001b[0m\n\u001b[0;31mSyntaxError\u001b[0m\u001b[0;31m:\u001b[0m invalid syntax\n"
          ]
        }
      ]
    },
    {
      "cell_type": "markdown",
      "source": [
        "## Submit a single URL with Python"
      ],
      "metadata": {
        "id": "RYH9oRD-Kath"
      }
    },
    {
      "cell_type": "code",
      "source": [
        "import requests\n",
        "\n",
        "url = \"Your URL\"\n",
        "api_key = \"YOUR_API_KEY\"\n",
        "domain = \"yourdomain.com\"\n",
        "\n",
        "def submission_to_indexnow(url, api_key):\n",
        "  indexnow_url = \"https://www.bing.com/indexnow\"\n",
        "\n",
        "  params = {\n",
        "            'url': url,\n",
        "            'key': api_key\n",
        "  }\n",
        "\n",
        "  response = requests.get(indexnow_url, params=params)\n",
        "\n",
        "  if response.status_code == 200:\n",
        "    print(\"URL submitted successfully to BingIndexNow.\")\n",
        "    print(f\"Response: {response.text}\")\n",
        "  else:\n",
        "    print(\"Failed to submit URL to BingIndexNow\")"
      ],
      "metadata": {
        "id": "ZK9u63cPKaSH"
      },
      "execution_count": null,
      "outputs": []
    },
    {
      "cell_type": "markdown",
      "source": [
        "## Submit multiple URLs to IndexNow in batches\n",
        "\n"
      ],
      "metadata": {
        "id": "LerfotEiH514"
      }
    },
    {
      "cell_type": "markdown",
      "source": [
        "1. Prepare your CSV files with the URLs you would like to test in batch\n",
        "\n",
        "---\n",
        "\n",
        "> Adjust the batch size. The customer support from Bing confirmed that there is no daily submission limit.\n",
        "\n",
        "---\n",
        "\n",
        "\n",
        "2. Create a CSV file with the header name \"url\"\n",
        "3. List the landing page paths beneath the column header\n",
        "4. Save as a CSV file and drop it into the \"files\" section of your own Google Colab (**make sure to make a copy of this Colab** 👿)\n",
        "5. Press play ▶ button ⬇ in the next cell. That will import libraries and define the 2 main functions: \"read_urls_from_file\" AND \"batch_submit_to_indexnow\"\n",
        "6. If you receive a ✅ then you can proceed and scroll ⏬ further down to the next steps."
      ],
      "metadata": {
        "id": "bl1Gqxa9YHrl"
      }
    },
    {
      "cell_type": "code",
      "execution_count": null,
      "metadata": {
        "id": "IfRcDl8zHHCm"
      },
      "outputs": [],
      "source": [
        "import pandas\n",
        "import requests\n",
        "import time\n",
        "from datetime import datetime\n",
        "from typing import List\n",
        "\n",
        "url_column = \"url\"\n",
        "\n",
        "#Load this cell first\n",
        "\n",
        "def read_urls_from_file(csv_path, url_column_name):\n",
        "\n",
        "  \"\"\" Read URLs from a CSV file and return them as a list \"\"\"\n",
        "\n",
        "  try:\n",
        "    df = pandas.read_csv(csv_path)\n",
        "    if url_column not in df.columns:\n",
        "      raise ValueError(f\"Column '{url_column_name}' not found in the CSV file.\")\n",
        "    return df[url_column].dropna().tolist()\n",
        "\n",
        "  except Exception as e:\n",
        "    print(f\"Error reading CSV file: {e}\")\n",
        "    return []\n",
        "\n",
        "def batch_submit_to_indexnow(urls: List[str], api_key: str, domain: str, batch_size: int = 10, delay: int = 1) -> None:\n",
        "\n",
        "  \"\"\"Submit URLs in batches to IndexNow\n",
        "\n",
        "  1. First load the batches of URLs\n",
        "  2. Load payload\n",
        "  3. Submit URLs and receive response\n",
        "  4. Wait between batches to avoid rate limiting\n",
        "\n",
        "  \"\"\"\n",
        "\n",
        "  indexnow_url = \"https://www.bing.com/indexnow\"\n",
        "\n",
        "  start_time = datetime.now()  # Record the start time\n",
        "\n",
        "  #Split URLs into batches\n",
        "\n",
        "  for i in range(0, len(urls), batch_size):\n",
        "    batch = urls[i:i + batch_size]\n",
        "\n",
        "    payload = {\n",
        "        \"host\": domain,\n",
        "        \"key\" : api_key,\n",
        "        \"urllist\" : batch\n",
        "    }\n",
        "\n",
        "    try:\n",
        "      response = requests.post(\n",
        "          indexnow_url,\n",
        "          json=payload,\n",
        "          headers={\"Content-Type\": \"application/json\"}\n",
        "      )\n",
        "\n",
        "      print(f\"\\nBatch {i//batch_size + 1}:\")\n",
        "      print(f\"Submitted {len(batch)} URLs\")\n",
        "      print(f\"Status Code: {response.status_code}\")\n",
        "      print(f\"Response: {response.text}\")\n",
        "\n",
        "      if response.status_code == 200:\n",
        "        print(\"URLs submitted successfully to BingIndexNow.\")\n",
        "        # Even if response.text is empty, status 200 indicates success\n",
        "      else:\n",
        "        print(f'Failed to submit URLs to BingIndexNow: {response.status_code}. Failed batch:{batch}')\n",
        "        print(f\"Error: {response.text}\")\n",
        "\n",
        "    except requests.exceptions.RequestException as e:\n",
        "      print(f\"Error submitting batch: {e}\")\n",
        "\n",
        "    #Wait between batches to avoid rate limiting\n",
        "    time.sleep(delay)\n",
        "\n",
        "  end_time = datetime.now()  # Record the end time\n",
        "  total_time = end_time - start_time\n",
        "\n",
        "  print(f\"\\nTotal time taken: {total_time}\")"
      ]
    },
    {
      "cell_type": "markdown",
      "source": [
        "##Submitting URLs in a batch for IndexNow\n",
        "\n",
        "\n",
        "\n",
        "1.   Once you have uploaded the CSV file into the files section, hover over the file you like to submit.\n",
        "2.   Click the 3 dots\n",
        "3.   Click \"copy path\"\n",
        "4.   Paste value into the variable `csv_path` in the code below\n",
        "5.   Click ▶ to load function that starts to run the code\n",
        "6.   Even if response.text is empty, status 200 indicates success ✅\n",
        "\n",
        "\n",
        "\n",
        "\n",
        "\n",
        "\n",
        "\n",
        "\n",
        "\n"
      ],
      "metadata": {
        "id": "UjT6veDIS0NF"
      }
    },
    {
      "cell_type": "code",
      "source": [
        "#Load the main function for IndexNow1 Test\n",
        "\n",
        "def main():\n",
        "  #Set the configuration\n",
        "  csv_path = \"/content/your_file_name.csv\" # Path to your CSV file\n",
        "  api_key = \"YourAPIkey\"   # Your IndexNow API key\n",
        "  domain = \"yourdomain.com\"                   # Your domain\n",
        "  batch_size = 500           # Number of URLs per batch\n",
        "  delay = 1                  # Delay between batches in seconds\n",
        "\n",
        "  #Read URLs from the CSV file\n",
        "  urls = read_urls_from_file(csv_path, url_column)\n",
        "  if not urls:\n",
        "    print(\"No URLs found in the CSV file.\")\n",
        "    return\n",
        "\n",
        "  #Submit URLs to IndexNow\n",
        "  batch_submit_to_indexnow(\n",
        "      urls=urls,\n",
        "      api_key=api_key,\n",
        "      domain=domain,\n",
        "      batch_size=batch_size,\n",
        "      delay=delay)\n",
        "\n",
        "\"\"\"\n",
        "\n",
        "The line if __name__ == \"__main__\": is a conditional statement that checks if the current script is being run as the main program.\n",
        "If it is, then the code inside the if block will be executed.\n",
        "\n",
        "\"\"\"\n",
        "\n",
        "if __name__ == \"__main__\":\n",
        "  main()"
      ],
      "metadata": {
        "id": "O6BG_y49WKH3",
        "colab": {
          "base_uri": "https://localhost:8080/"
        },
        "outputId": "5d2d3c0a-09aa-434d-f407-c1e25e9e1470"
      },
      "execution_count": null,
      "outputs": [
        {
          "output_type": "stream",
          "name": "stdout",
          "text": [
            "\n",
            "Batch 1:\n",
            "Submitted 500 URLs\n",
            "Status Code: 200\n",
            "Response: \n",
            "URLs submitted successfully to BingIndexNow.\n",
            "\n",
            "Batch 2:\n",
            "Submitted 500 URLs\n",
            "Status Code: 200\n",
            "Response: \n",
            "URLs submitted successfully to BingIndexNow.\n",
            "\n",
            "Batch 3:\n",
            "Submitted 500 URLs\n",
            "Status Code: 200\n",
            "Response: \n",
            "URLs submitted successfully to BingIndexNow.\n",
            "\n",
            "Batch 4:\n",
            "Submitted 500 URLs\n",
            "Status Code: 200\n",
            "Response: \n",
            "URLs submitted successfully to BingIndexNow.\n",
            "\n",
            "Batch 5:\n",
            "Submitted 500 URLs\n",
            "Status Code: 200\n",
            "Response: \n",
            "URLs submitted successfully to BingIndexNow.\n",
            "\n",
            "Batch 6:\n",
            "Submitted 500 URLs\n",
            "Status Code: 200\n",
            "Response: \n",
            "URLs submitted successfully to BingIndexNow.\n",
            "\n",
            "Batch 7:\n",
            "Submitted 500 URLs\n",
            "Status Code: 200\n",
            "Response: \n",
            "URLs submitted successfully to BingIndexNow.\n",
            "\n",
            "Batch 8:\n",
            "Submitted 500 URLs\n",
            "Status Code: 200\n",
            "Response: \n",
            "URLs submitted successfully to BingIndexNow.\n",
            "\n",
            "Batch 9:\n",
            "Submitted 500 URLs\n",
            "Status Code: 200\n",
            "Response: \n",
            "URLs submitted successfully to BingIndexNow.\n",
            "\n",
            "Batch 10:\n",
            "Submitted 500 URLs\n",
            "Status Code: 200\n",
            "Response: \n",
            "URLs submitted successfully to BingIndexNow.\n",
            "\n",
            "Batch 11:\n",
            "Submitted 500 URLs\n",
            "Status Code: 200\n",
            "Response: \n",
            "URLs submitted successfully to BingIndexNow.\n",
            "\n",
            "Batch 12:\n",
            "Submitted 500 URLs\n",
            "Status Code: 200\n",
            "Response: \n",
            "URLs submitted successfully to BingIndexNow.\n",
            "\n",
            "Batch 13:\n",
            "Submitted 500 URLs\n",
            "Status Code: 200\n",
            "Response: \n",
            "URLs submitted successfully to BingIndexNow.\n",
            "\n",
            "Batch 14:\n",
            "Submitted 500 URLs\n",
            "Status Code: 200\n",
            "Response: \n",
            "URLs submitted successfully to BingIndexNow.\n",
            "\n",
            "Batch 15:\n",
            "Submitted 500 URLs\n",
            "Status Code: 200\n",
            "Response: \n",
            "URLs submitted successfully to BingIndexNow.\n",
            "\n",
            "Batch 16:\n",
            "Submitted 500 URLs\n",
            "Status Code: 200\n",
            "Response: \n",
            "URLs submitted successfully to BingIndexNow.\n",
            "\n",
            "Batch 17:\n",
            "Submitted 500 URLs\n",
            "Status Code: 200\n",
            "Response: \n",
            "URLs submitted successfully to BingIndexNow.\n",
            "\n",
            "Batch 18:\n",
            "Submitted 500 URLs\n",
            "Status Code: 200\n",
            "Response: \n",
            "URLs submitted successfully to BingIndexNow.\n",
            "\n",
            "Batch 19:\n",
            "Submitted 500 URLs\n",
            "Status Code: 200\n",
            "Response: \n",
            "URLs submitted successfully to BingIndexNow.\n",
            "\n",
            "Batch 20:\n",
            "Submitted 500 URLs\n",
            "Status Code: 200\n",
            "Response: \n",
            "URLs submitted successfully to BingIndexNow.\n",
            "\n",
            "Batch 21:\n",
            "Submitted 500 URLs\n",
            "Status Code: 200\n",
            "Response: \n",
            "URLs submitted successfully to BingIndexNow.\n",
            "\n",
            "Total time taken: 0:00:36.884426\n"
          ]
        }
      ]
    },
    {
      "cell_type": "markdown",
      "source": [
        "## Meaning of different HTTP status codes\n",
        "\n",
        "| HTTP Code\tResponse |\tDescription |\n",
        "|---|---|\n",
        "|200\t|   OK\tThe URL was successfully submitted to the IndexNow API. |\n",
        "|202\t|   Accepted\tThe IndexNow API received your URL. However, it still needs to validate the API key to confirm the URL belongs to your site. |\n",
        "|400\t|   Bad Request\tThe URL was not properly formatted.|\n",
        "|403 |\t  Forbidden\tThe IndexNow API did not find your API key and cannot confirm the URL belongs to your site. |\n",
        "|422\t|   Unprocessable Entity\tThe URL belongs to another site and cannot be processed. |\n",
        "|429 |\t  Too Many Requests\tThe IndexNow API received too many requests beyond the permitted quota of 10,000 requests per HTTP POST. |"
      ],
      "metadata": {
        "id": "yV-YnJdDYzuG"
      }
    }
  ]
}